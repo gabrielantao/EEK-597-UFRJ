{
 "cells": [
  {
   "cell_type": "code",
   "execution_count": null,
   "metadata": {},
   "outputs": [],
   "source": [
    "\n",
    "import itertools\n",
    "import numpy as np\n",
    "import matplotlib.pyplot as plt\n",
    "\n",
    "\n",
    "def apply_disturbance(x, y):\n",
    "    \"\"\" Gera o vetor com os pontos da malha 'amortecida'. \"\"\"\n",
    "    all_nodes = np.empty((n_t, 2))\n",
    "    for i, node_coord in enumerate(itertools.product(x, y)):\n",
    "        all_nodes[i] = [node_coord[0], \n",
    "                        node_coord[1]/L_y * func(node_coord[0]) + node_coord[1]]\n",
    "    return all_nodes\n",
    "        \n",
    "def triangulate(n_x, n_y):\n",
    "    \"\"\" Retorna a matriz de conectividade. \"\"\"\n",
    "    all_nodes = []\n",
    "    for f in range(0, n_x * n_y - n_y, n_y):\n",
    "        for y in range(n_y - 1):\n",
    "            all_nodes.append([f + y, f + y + 1, f + y + n_y])\n",
    "            all_nodes.append([f + y + 1, f + y + n_y + 1, f + y + n_y])\n",
    "    return np.array(all_nodes)\n",
    "\n",
    "def plot_curves(x, y):\n",
    "    \"\"\" Visualizacao das curvas 'amortecidas'. \"\"\"\n",
    "    default_shape = func(x) #calcula so uma vez\n",
    "    for y in [node_y/L_y * default_shape + node_y for node_y in y]:\n",
    "        plt.plot(x, y)\n",
    "        \n",
    "def plot_mesh(nodes, triangulations):\n",
    "    \"\"\" Visualizacao da malha. \"\"\"\n",
    "    plt.triplot(nodes[:, 0], nodes[:, 1], triangulations, \"go-\")\n",
    "    plt.show()    "
   ]
  },
  {
   "cell_type": "code",
   "execution_count": null,
   "metadata": {},
   "outputs": [],
   "source": [
    "L_x = 10.0                        # comprimento em x\n",
    "L_y = 0.5                         # comprimento em y\n",
    "n_x = 30                          # numero de nos em x\n",
    "n_y = 20                          # numero de nos em y\n",
    "n_t = n_x * n_y                   # numero total de nos\n",
    "n_e = 2 * (n_x - 1) * (n_y - 1)   # numero total de elementos\n",
    "A = 0.03\n",
    "phi = 2 * np.pi / 4\n",
    "lambda_ = 10.0 / 2 \n",
    "k = 2 * np.pi / lambda_\n",
    "func = lambda x: A * np.sin(k * x - phi)\n",
    "# criacao dos pontos iniciais\n",
    "x_init = np.linspace(0, L_x, n_x)\n",
    "y_init = np.linspace(0, L_y, n_y)\n",
    "# geracao dos triangulos  \n",
    "triangles = triangulate(n_x, n_y)\n",
    "# malha original\n",
    "nodes = np.array([par for par in itertools.product(x_init, y_init)])\n",
    "plot_mesh(nodes, triangles)\n",
    "# malha perturbada\n",
    "nodes = apply_disturbance(x_init, y_init)\n",
    "plot_mesh(nodes, triangles)\n",
    "    "
   ]
  }
 ],
 "metadata": {
  "kernelspec": {
   "display_name": "Python 2",
   "language": "python",
   "name": "python2"
  },
  "language_info": {
   "codemirror_mode": {
    "name": "ipython",
    "version": 2
   },
   "file_extension": ".py",
   "mimetype": "text/x-python",
   "name": "python",
   "nbconvert_exporter": "python",
   "pygments_lexer": "ipython2",
   "version": "2.7.15"
  }
 },
 "nbformat": 4,
 "nbformat_minor": 2
}
